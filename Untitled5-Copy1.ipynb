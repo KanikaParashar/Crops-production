{
 "cells": [
  {
   "cell_type": "code",
   "execution_count": 25,
   "metadata": {},
   "outputs": [],
   "source": [
    "import numpy as np\n",
    "import pandas as pd\n",
    "import matplotlib.pyplot as plt"
   ]
  },
  {
   "cell_type": "code",
   "execution_count": 26,
   "metadata": {},
   "outputs": [
    {
     "data": {
      "text/plain": [
       "Index(['State', 'District ', 'Year', 'Area', 'Production', 'Rainfall'], dtype='object')"
      ]
     },
     "execution_count": 26,
     "metadata": {},
     "output_type": "execute_result"
    }
   ],
   "source": [
    "df = pd.read_excel(\"bhilwara crops.xlsx\")\n",
    "df.columns"
   ]
  },
  {
   "cell_type": "code",
   "execution_count": 32,
   "metadata": {},
   "outputs": [
    {
     "name": "stdout",
     "output_type": "stream",
     "text": [
      "       Area  Rainfall\n",
      "0  13913.55   704.000\n",
      "1   8642.79   312.080\n",
      "2  10388.07   584.875\n",
      "3  17409.09   866.930\n",
      "4  18344.76   553.290\n",
      "5  16935.53   835.410\n",
      "6  16094.87   556.250\n",
      "7  15942.35   565.330    Production\n",
      "0    18758.94\n",
      "1     3303.40\n",
      "2    13712.15\n",
      "3    26534.60\n",
      "4    15032.75\n",
      "5    27269.62\n",
      "6    22557.56\n",
      "7    19119.73\n"
     ]
    }
   ],
   "source": [
    "y = df[['Production']]\n",
    "x = df[[\"Area\",\"Rainfall\"]]\n",
    "\n",
    "print(x,y)"
   ]
  },
  {
   "cell_type": "code",
   "execution_count": 34,
   "metadata": {},
   "outputs": [
    {
     "data": {
      "text/plain": [
       "LinearRegression()"
      ]
     },
     "execution_count": 34,
     "metadata": {},
     "output_type": "execute_result"
    }
   ],
   "source": [
    "from sklearn.preprocessing import PolynomialFeatures \n",
    "from sklearn.linear_model import LinearRegression\n",
    "poly_trans = PolynomialFeatures(degree = 3)\n",
    "x_poly = poly_trans.fit_transform(x)\n",
    "pr_model = LinearRegression()\n",
    "pr_model.fit(x_poly,y)\n"
   ]
  },
  {
   "cell_type": "code",
   "execution_count": 43,
   "metadata": {},
   "outputs": [
    {
     "name": "stdout",
     "output_type": "stream",
     "text": [
      "Index(['area', 'rain'], dtype='object')\n"
     ]
    },
    {
     "data": {
      "text/plain": [
       "array([[24846.70515149]])"
      ]
     },
     "execution_count": 43,
     "metadata": {},
     "output_type": "execute_result"
    }
   ],
   "source": [
    "df = pd.read_excel(\"test.xlsx\")\n",
    "print(df.columns)\n",
    "x1 = df[['area', 'rain']]\n",
    "x2 = poly_trans.fit_transform(x1)\n",
    "y_pr = pr_model.predict(x2)\n",
    "y_pr\n"
   ]
  },
  {
   "cell_type": "code",
   "execution_count": null,
   "metadata": {},
   "outputs": [],
   "source": []
  }
 ],
 "metadata": {
  "kernelspec": {
   "display_name": "Python 3",
   "language": "python",
   "name": "python3"
  },
  "language_info": {
   "codemirror_mode": {
    "name": "ipython",
    "version": 3
   },
   "file_extension": ".py",
   "mimetype": "text/x-python",
   "name": "python",
   "nbconvert_exporter": "python",
   "pygments_lexer": "ipython3",
   "version": "3.8.2"
  }
 },
 "nbformat": 4,
 "nbformat_minor": 4
}
